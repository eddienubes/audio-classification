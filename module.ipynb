{
 "cells": [
  {
   "cell_type": "code",
   "execution_count": 1,
   "id": "f105ced938082d34",
   "metadata": {
    "ExecuteTime": {
     "end_time": "2023-12-19T12:51:57.754917Z",
     "start_time": "2023-12-19T12:51:57.751097Z"
    },
    "collapsed": false,
    "jupyter": {
     "outputs_hidden": false
    }
   },
   "outputs": [],
   "source": [
    "import os\n",
    "\n",
    "os.environ[\"SPARK_HOME\"] = \"/Users/admin/Personal/Code/spark-3.5.0-bin-hadoop3\"\n",
    "os.environ[\"PYSPARK_PYTHON\"] = \"/usr/bin/python3\"\n",
    "os.environ[\"PYSPARK_DRIVER_PYTHON\"] = \"/usr/bin/python3\""
   ]
  },
  {
   "cell_type": "code",
   "execution_count": 2,
   "id": "43bdbeeced239d2f",
   "metadata": {
    "ExecuteTime": {
     "end_time": "2023-12-19T12:52:02.765910Z",
     "start_time": "2023-12-19T12:51:59.514917Z"
    },
    "collapsed": false,
    "jupyter": {
     "outputs_hidden": false
    }
   },
   "outputs": [
    {
     "name": "stdout",
     "output_type": "stream",
     "text": [
      "Defaulting to user installation because normal site-packages is not writeable\r\n",
      "Requirement already satisfied: pyspark in /Users/admin/Library/Python/3.9/lib/python/site-packages (3.5.0)\r\n",
      "Requirement already satisfied: py4j==0.10.9.7 in /Users/admin/Library/Python/3.9/lib/python/site-packages (from pyspark) (0.10.9.7)\r\n",
      "\u001b[33mWARNING: You are using pip version 21.2.4; however, version 23.3.2 is available.\r\n",
      "You should consider upgrading via the '/Library/Developer/CommandLineTools/usr/bin/python3 -m pip install --upgrade pip' command.\u001b[0m\r\n",
      "Note: you may need to restart the kernel to use updated packages.\n",
      "Defaulting to user installation because normal site-packages is not writeable\r\n",
      "Requirement already satisfied: pyspark[sql] in /Users/admin/Library/Python/3.9/lib/python/site-packages (3.5.0)\r\n",
      "Requirement already satisfied: py4j==0.10.9.7 in /Users/admin/Library/Python/3.9/lib/python/site-packages (from pyspark[sql]) (0.10.9.7)\r\n",
      "Requirement already satisfied: pyarrow>=4.0.0 in /Users/admin/Library/Python/3.9/lib/python/site-packages (from pyspark[sql]) (14.0.1)\r\n",
      "Requirement already satisfied: pandas>=1.0.5 in /Users/admin/Library/Python/3.9/lib/python/site-packages (from pyspark[sql]) (2.1.3)\r\n",
      "Requirement already satisfied: numpy>=1.15 in /Users/admin/Library/Python/3.9/lib/python/site-packages (from pyspark[sql]) (1.26.2)\r\n",
      "Requirement already satisfied: python-dateutil>=2.8.2 in /Users/admin/Library/Python/3.9/lib/python/site-packages (from pandas>=1.0.5->pyspark[sql]) (2.8.2)\r\n",
      "Requirement already satisfied: tzdata>=2022.1 in /Users/admin/Library/Python/3.9/lib/python/site-packages (from pandas>=1.0.5->pyspark[sql]) (2023.3)\r\n",
      "Requirement already satisfied: pytz>=2020.1 in /Users/admin/Library/Python/3.9/lib/python/site-packages (from pandas>=1.0.5->pyspark[sql]) (2023.3.post1)\r\n",
      "Requirement already satisfied: six>=1.5 in /Library/Developer/CommandLineTools/Library/Frameworks/Python3.framework/Versions/3.9/lib/python3.9/site-packages (from python-dateutil>=2.8.2->pandas>=1.0.5->pyspark[sql]) (1.15.0)\r\n",
      "\u001b[33mWARNING: You are using pip version 21.2.4; however, version 23.3.2 is available.\r\n",
      "You should consider upgrading via the '/Library/Developer/CommandLineTools/usr/bin/python3 -m pip install --upgrade pip' command.\u001b[0m\r\n",
      "Note: you may need to restart the kernel to use updated packages.\n",
      "Defaulting to user installation because normal site-packages is not writeable\r\n",
      "Requirement already satisfied: pyspark[connect] in /Users/admin/Library/Python/3.9/lib/python/site-packages (3.5.0)\r\n",
      "Requirement already satisfied: py4j==0.10.9.7 in /Users/admin/Library/Python/3.9/lib/python/site-packages (from pyspark[connect]) (0.10.9.7)\r\n",
      "Requirement already satisfied: googleapis-common-protos>=1.56.4 in /Users/admin/Library/Python/3.9/lib/python/site-packages (from pyspark[connect]) (1.61.0)\r\n",
      "Requirement already satisfied: grpcio-status>=1.56.0 in /Users/admin/Library/Python/3.9/lib/python/site-packages (from pyspark[connect]) (1.59.3)\r\n",
      "Requirement already satisfied: pandas>=1.0.5 in /Users/admin/Library/Python/3.9/lib/python/site-packages (from pyspark[connect]) (2.1.3)\r\n",
      "Requirement already satisfied: grpcio>=1.56.0 in /Users/admin/Library/Python/3.9/lib/python/site-packages (from pyspark[connect]) (1.59.3)\r\n",
      "Requirement already satisfied: numpy>=1.15 in /Users/admin/Library/Python/3.9/lib/python/site-packages (from pyspark[connect]) (1.26.2)\r\n",
      "Requirement already satisfied: pyarrow>=4.0.0 in /Users/admin/Library/Python/3.9/lib/python/site-packages (from pyspark[connect]) (14.0.1)\r\n",
      "Requirement already satisfied: protobuf!=3.20.0,!=3.20.1,!=4.21.1,!=4.21.2,!=4.21.3,!=4.21.4,!=4.21.5,<5.0.0.dev0,>=3.19.5 in /Users/admin/Library/Python/3.9/lib/python/site-packages (from googleapis-common-protos>=1.56.4->pyspark[connect]) (4.25.1)\r\n",
      "Requirement already satisfied: python-dateutil>=2.8.2 in /Users/admin/Library/Python/3.9/lib/python/site-packages (from pandas>=1.0.5->pyspark[connect]) (2.8.2)\r\n",
      "Requirement already satisfied: tzdata>=2022.1 in /Users/admin/Library/Python/3.9/lib/python/site-packages (from pandas>=1.0.5->pyspark[connect]) (2023.3)\r\n",
      "Requirement already satisfied: pytz>=2020.1 in /Users/admin/Library/Python/3.9/lib/python/site-packages (from pandas>=1.0.5->pyspark[connect]) (2023.3.post1)\r\n",
      "Requirement already satisfied: six>=1.5 in /Library/Developer/CommandLineTools/Library/Frameworks/Python3.framework/Versions/3.9/lib/python3.9/site-packages (from python-dateutil>=2.8.2->pandas>=1.0.5->pyspark[connect]) (1.15.0)\r\n",
      "\u001b[33mWARNING: You are using pip version 21.2.4; however, version 23.3.2 is available.\r\n",
      "You should consider upgrading via the '/Library/Developer/CommandLineTools/usr/bin/python3 -m pip install --upgrade pip' command.\u001b[0m\r\n",
      "Note: you may need to restart the kernel to use updated packages.\n",
      "Defaulting to user installation because normal site-packages is not writeable\r\n",
      "Requirement already satisfied: matplotlib in /Users/admin/Library/Python/3.9/lib/python/site-packages (3.8.2)\r\n",
      "Requirement already satisfied: pyparsing>=2.3.1 in /Users/admin/Library/Python/3.9/lib/python/site-packages (from matplotlib) (3.1.1)\r\n",
      "Requirement already satisfied: kiwisolver>=1.3.1 in /Users/admin/Library/Python/3.9/lib/python/site-packages (from matplotlib) (1.4.5)\r\n",
      "Requirement already satisfied: numpy<2,>=1.21 in /Users/admin/Library/Python/3.9/lib/python/site-packages (from matplotlib) (1.26.2)\r\n",
      "Requirement already satisfied: pillow>=8 in /Users/admin/Library/Python/3.9/lib/python/site-packages (from matplotlib) (10.1.0)\r\n",
      "Requirement already satisfied: fonttools>=4.22.0 in /Users/admin/Library/Python/3.9/lib/python/site-packages (from matplotlib) (4.46.0)\r\n",
      "Requirement already satisfied: python-dateutil>=2.7 in /Users/admin/Library/Python/3.9/lib/python/site-packages (from matplotlib) (2.8.2)\r\n",
      "Requirement already satisfied: packaging>=20.0 in /Users/admin/Library/Python/3.9/lib/python/site-packages (from matplotlib) (23.2)\r\n",
      "Requirement already satisfied: importlib-resources>=3.2.0 in /Users/admin/Library/Python/3.9/lib/python/site-packages (from matplotlib) (6.1.1)\r\n",
      "Requirement already satisfied: contourpy>=1.0.1 in /Users/admin/Library/Python/3.9/lib/python/site-packages (from matplotlib) (1.2.0)\r\n",
      "Requirement already satisfied: cycler>=0.10 in /Users/admin/Library/Python/3.9/lib/python/site-packages (from matplotlib) (0.12.1)\r\n",
      "Requirement already satisfied: zipp>=3.1.0 in /Users/admin/Library/Python/3.9/lib/python/site-packages (from importlib-resources>=3.2.0->matplotlib) (3.17.0)\r\n",
      "Requirement already satisfied: six>=1.5 in /Library/Developer/CommandLineTools/Library/Frameworks/Python3.framework/Versions/3.9/lib/python3.9/site-packages (from python-dateutil>=2.7->matplotlib) (1.15.0)\r\n",
      "\u001b[33mWARNING: You are using pip version 21.2.4; however, version 23.3.2 is available.\r\n",
      "You should consider upgrading via the '/Library/Developer/CommandLineTools/usr/bin/python3 -m pip install --upgrade pip' command.\u001b[0m\r\n",
      "Note: you may need to restart the kernel to use updated packages.\n",
      "Defaulting to user installation because normal site-packages is not writeable\r\n",
      "Requirement already satisfied: scikit-learn in /Users/admin/Library/Python/3.9/lib/python/site-packages (1.3.2)\r\n",
      "Requirement already satisfied: threadpoolctl>=2.0.0 in /Users/admin/Library/Python/3.9/lib/python/site-packages (from scikit-learn) (3.2.0)\r\n",
      "Requirement already satisfied: joblib>=1.1.1 in /Users/admin/Library/Python/3.9/lib/python/site-packages (from scikit-learn) (1.3.2)\r\n",
      "Requirement already satisfied: numpy<2.0,>=1.17.3 in /Users/admin/Library/Python/3.9/lib/python/site-packages (from scikit-learn) (1.26.2)\r\n",
      "Requirement already satisfied: scipy>=1.5.0 in /Users/admin/Library/Python/3.9/lib/python/site-packages (from scikit-learn) (1.11.4)\r\n",
      "\u001b[33mWARNING: You are using pip version 21.2.4; however, version 23.3.2 is available.\r\n",
      "You should consider upgrading via the '/Library/Developer/CommandLineTools/usr/bin/python3 -m pip install --upgrade pip' command.\u001b[0m\r\n",
      "Note: you may need to restart the kernel to use updated packages.\n"
     ]
    }
   ],
   "source": [
    "%pip install pyspark\n",
    "%pip install 'pyspark[sql]'\n",
    "%pip install 'pyspark[connect]'\n",
    "%pip install matplotlib\n",
    "%pip install scikit-learn"
   ]
  },
  {
   "cell_type": "code",
   "execution_count": 3,
   "id": "d42bbbea7eb46788",
   "metadata": {
    "ExecuteTime": {
     "end_time": "2023-12-19T12:52:04.545521Z",
     "start_time": "2023-12-19T12:52:03.632750Z"
    },
    "collapsed": false,
    "jupyter": {
     "outputs_hidden": false
    }
   },
   "outputs": [
    {
     "name": "stdout",
     "output_type": "stream",
     "text": [
      "Requirement already satisfied: scikit-learn in ./lab3/lib/python3.11/site-packages (1.3.2)\r\n",
      "Requirement already satisfied: numpy<2.0,>=1.17.3 in ./lab3/lib/python3.11/site-packages (from scikit-learn) (1.26.2)\r\n",
      "Requirement already satisfied: scipy>=1.5.0 in ./lab3/lib/python3.11/site-packages (from scikit-learn) (1.11.4)\r\n",
      "Requirement already satisfied: joblib>=1.1.1 in ./lab3/lib/python3.11/site-packages (from scikit-learn) (1.3.2)\r\n",
      "Requirement already satisfied: threadpoolctl>=2.0.0 in ./lab3/lib/python3.11/site-packages (from scikit-learn) (3.2.0)\r\n",
      "\r\n",
      "\u001b[1m[\u001b[0m\u001b[34;49mnotice\u001b[0m\u001b[1;39;49m]\u001b[0m\u001b[39;49m A new release of pip is available: \u001b[0m\u001b[31;49m23.3.1\u001b[0m\u001b[39;49m -> \u001b[0m\u001b[32;49m23.3.2\u001b[0m\r\n",
      "\u001b[1m[\u001b[0m\u001b[34;49mnotice\u001b[0m\u001b[1;39;49m]\u001b[0m\u001b[39;49m To update, run: \u001b[0m\u001b[32;49mpip install --upgrade pip\u001b[0m\r\n"
     ]
    }
   ],
   "source": [
    "!pip install scikit-learn"
   ]
  },
  {
   "cell_type": "code",
   "execution_count": 62,
   "id": "7d4d77e2698d0170",
   "metadata": {
    "ExecuteTime": {
     "end_time": "2023-12-19T13:52:58.581503Z",
     "start_time": "2023-12-19T13:52:58.566565Z"
    },
    "collapsed": false,
    "jupyter": {
     "outputs_hidden": false
    }
   },
   "outputs": [
    {
     "data": {
      "text/html": [
       "\n",
       "            <div>\n",
       "                <p><b>SparkSession - in-memory</b></p>\n",
       "                \n",
       "        <div>\n",
       "            <p><b>SparkContext</b></p>\n",
       "\n",
       "            <p><a href=\"http://dmitrys-mbp.home:4040\">Spark UI</a></p>\n",
       "\n",
       "            <dl>\n",
       "              <dt>Version</dt>\n",
       "                <dd><code>v3.5.0</code></dd>\n",
       "              <dt>Master</dt>\n",
       "                <dd><code>local[4]</code></dd>\n",
       "              <dt>AppName</dt>\n",
       "                <dd><code>Lab3</code></dd>\n",
       "            </dl>\n",
       "        </div>\n",
       "        \n",
       "            </div>\n",
       "        "
      ],
      "text/plain": [
       "<pyspark.sql.session.SparkSession at 0x105bcfdf0>"
      ]
     },
     "execution_count": 62,
     "metadata": {},
     "output_type": "execute_result"
    }
   ],
   "source": [
    "from pyspark.sql import SparkSession\n",
    "from pyspark import SparkConf\n",
    "\n",
    "conf = SparkConf()\n",
    "conf.set(\"spark.pyspark.python\", \"/usr/bin/python3\")\n",
    "conf.set(\"spark.pyspark.driver.python\", \"/usr/bin/python3\")\n",
    "conf.set(\"spark.driver.memory\", \"6g\")\n",
    "conf.set(\"spark.executor.memory\", \"6g\")\n",
    "\n",
    "spark = SparkSession.builder \\\n",
    "    .master(\"local[4]\") \\\n",
    "    .config(conf=conf) \\\n",
    "    .appName(\"Lab3\") \\\n",
    "    .getOrCreate()\n",
    "spark.sparkContext.setLogLevel(\"ERROR\")\n",
    "spark"
   ]
  },
  {
   "cell_type": "code",
   "execution_count": 73,
   "id": "e9dbd059870d635f",
   "metadata": {
    "ExecuteTime": {
     "end_time": "2023-12-19T14:01:30.282545Z",
     "start_time": "2023-12-19T14:01:30.273588Z"
    },
    "collapsed": false,
    "jupyter": {
     "outputs_hidden": false
    }
   },
   "outputs": [],
   "source": [
    "import pandas as pd\n",
    "\n",
    "# 1. Завантажимо дані\n",
    "df = pd.read_csv(\"/Users/admin/Personal/KPI/Big Data/lab3/japanese_universities.csv\", index_col=None)"
   ]
  },
  {
   "cell_type": "code",
   "execution_count": 81,
   "id": "6f42d35bc0ebc7db",
   "metadata": {
    "ExecuteTime": {
     "end_time": "2023-12-19T14:02:37.745305Z",
     "start_time": "2023-12-19T14:02:37.732664Z"
    },
    "collapsed": false,
    "jupyter": {
     "outputs_hidden": false
    }
   },
   "outputs": [],
   "source": [
    "# Заповнимо клітинки зі значенням NaN нулями\n",
    "df = df.fillna(0)"
   ]
  },
  {
   "cell_type": "code",
   "execution_count": 82,
   "id": "6fa0fd1ad899275c",
   "metadata": {
    "ExecuteTime": {
     "end_time": "2023-12-19T14:02:39.756982Z",
     "start_time": "2023-12-19T14:02:39.656610Z"
    },
    "collapsed": false,
    "jupyter": {
     "outputs_hidden": false
    }
   },
   "outputs": [
    {
     "name": "stdout",
     "output_type": "stream",
     "text": [
      "+---+-------------+-------------------+----------+--------+-------+----------------------------+-----------+--------------+---------+--------+---------+----------+-------+-------------+----------------+--------+----------+-------------+------------+-------------+---------------+\n",
      "| id|         code|               name|   name_jp|    type|type_jp|                     address|postal_code|         phone|    state|state_jp| latitude| longitude|  found|faculty_count|department_count|has_grad|has_remote|review_rating|review_count|difficulty_SD|difficulty_rank|\n",
      "+---+-------------+-------------------+----------+--------+-------+----------------------------+-----------+--------------+---------+--------+---------+----------+-------+-------------+----------------+--------+----------+-------------+------------+-------------+---------------+\n",
      "|  0|F101110100010|Hokkaido University|北海道大学|National|   国立|北海道札幌市北区北8条西5丁目|  060－0808|011－716－2111|Hokkai Do|  北海道|43.070446|141.347153|1876-08|           33|              78|    true|     false|         4.16|      1389.0|         60.4|              A|\n",
      "+---+-------------+-------------------+----------+--------+-------+----------------------------+-----------+--------------+---------+--------+---------+----------+-------+-------------+----------------+--------+----------+-------------+------------+-------------+---------------+\n"
     ]
    },
    {
     "name": "stderr",
     "output_type": "stream",
     "text": [
      "/Users/admin/Library/Python/3.9/lib/python/site-packages/pyspark/sql/pandas/conversion.py:485: FutureWarning: is_datetime64tz_dtype is deprecated and will be removed in a future version. Check `isinstance(dtype, pd.DatetimeTZDtype)` instead.\n",
      "  if should_localize and is_datetime64tz_dtype(s.dtype) and s.dt.tz is not None:\n"
     ]
    }
   ],
   "source": [
    "# 2. Створимо Spark DataFrame\n",
    "sparkDf = spark.createDataFrame(df)\n",
    "sparkDf.show(1)"
   ]
  },
  {
   "cell_type": "code",
   "execution_count": 83,
   "id": "d3a2ea3c27e2f5bd",
   "metadata": {
    "ExecuteTime": {
     "end_time": "2023-12-19T14:02:42.003746Z",
     "start_time": "2023-12-19T14:02:41.928942Z"
    },
    "collapsed": false,
    "jupyter": {
     "outputs_hidden": false
    }
   },
   "outputs": [
    {
     "name": "stdout",
     "output_type": "stream",
     "text": [
      "+-------------+-----+\n",
      "|        state|count|\n",
      "+-------------+-----+\n",
      "| Nagasaki Ken|    8|\n",
      "|    Shiga Ken|    9|\n",
      "|   Kagawa Ken|    4|\n",
      "|   Aomori Ken|   10|\n",
      "|  Niigata Ken|   22|\n",
      "|     Tokyo To|  146|\n",
      "|    Kochi Ken|    5|\n",
      "|    Gunma Ken|   15|\n",
      "|  Okinawa Ken|    8|\n",
      "|Hiroshima Ken|   21|\n",
      "|  Tochigi Ken|    9|\n",
      "| Kumamoto Ken|    9|\n",
      "|     Oita Ken|    5|\n",
      "|     Nara Ken|   11|\n",
      "|    Hokkai Do|   37|\n",
      "|    Hyogo Ken|   36|\n",
      "| Ishikawa Ken|   14|\n",
      "|   Nagano Ken|   11|\n",
      "|   Miyagi Ken|   14|\n",
      "|    Iwate Ken|    6|\n",
      "+-------------+-----+\n"
     ]
    }
   ],
   "source": [
    "# 3. Виведемо count з групуванням за полем state\n",
    "sparkDf.groupBy('state').count().show()"
   ]
  },
  {
   "cell_type": "code",
   "execution_count": 84,
   "id": "5ff4a7ae64303e36",
   "metadata": {
    "ExecuteTime": {
     "end_time": "2023-12-19T14:02:44.094012Z",
     "start_time": "2023-12-19T14:02:44.056379Z"
    },
    "collapsed": false,
    "jupyter": {
     "outputs_hidden": false
    }
   },
   "outputs": [
    {
     "name": "stdout",
     "output_type": "stream",
     "text": [
      "+---+-------------+--------------------+------------+--------+-------+-------------------------------+-----------+--------------+-----------+--------+---------+----------+-------+-------------+----------------+--------+----------+-------------+------------+-------------+---------------+\n",
      "| id|         code|                name|     name_jp|    type|type_jp|                        address|postal_code|         phone|      state|state_jp| latitude| longitude|  found|faculty_count|department_count|has_grad|has_remote|review_rating|review_count|difficulty_SD|difficulty_rank|\n",
      "+---+-------------+--------------------+------------+--------+-------+-------------------------------+-----------+--------------+-----------+--------+---------+----------+-------+-------------+----------------+--------+----------+-------------+------------+-------------+---------------+\n",
      "|  0|F101110100010| Hokkaido University|  北海道大学|National|   国立|   北海道札幌市北区北8条西5丁目|  060－0808|011－716－2111|  Hokkai Do|  北海道|43.070446|141.347153|1876-08|           33|              78|    true|     false|         4.16|      1389.0|         60.4|              A|\n",
      "|  4|F101110100056|Obihiro Universit...|帯広畜産大学|National|   国立|      北海道帯広市稲田町西2線11|  080－8555|0155－49－5216|  Hokkai Do|  北海道|42.872356|143.177979|1941-04|            3|               5|    true|     false|          4.2|        87.0|         54.5|              B|\n",
      "|  5|F101110100074|Asahikawa Medical...|旭川医科大学|National|   国立| 北海道旭川市緑が丘東2条1－1－1|  078－8510|0166－65－2111|  Hokkai Do|  北海道|43.730633|142.381897|1973-09|            2|               4|    true|     false|         3.93|        76.0|         56.8|              B|\n",
      "|  7|F102110100572| Hirosaki University|    弘前大学|National|   国立|            青森県弘前市文京町1|  036－8560|0172－36－2111| Aomori Ken|  青森県|40.587959|140.472061|1920-11|           13|              29|    true|     false|         3.84|       546.0|         48.0|              D|\n",
      "|  8|F103110100731|    Iwate University|    岩手大学|National|   国立|       岩手県盛岡市上田3－18－8|  020－8550|019－621－6006|  Iwate Ken|  岩手県|39.712715|141.137711|1902-03|            9|              24|    true|     false|         3.89|       435.0|         46.0|              D|\n",
      "|  9|F104110100856|   Tohoku University|    東北大学|National|   国立|  宮城県仙台市青葉区片平2－1－1|  980－8577|022－717－7800| Miyagi Ken|  宮城県|38.252632|140.873932|1886-04|           25|              78|    true|     false|         4.18|      1213.0|         60.3|              A|\n",
      "| 10|F104110100865|Miyagi University...|宮城教育大学|National|   国立|宮城県仙台市青葉区荒巻字青葉149|  980－0845|022－214－3417| Miyagi Ken|  宮城県|38.258968|140.830948|1965-04|            2|               4|    true|     false|         3.95|       182.0|         45.4|              D|\n",
      "| 14|F108110101414|  Ibaraki University|    茨城大学|National|   国立|        茨城県水戸市文京2－1－1|  310－8512|029－228－8111|Ibaraki Ken|  茨城県|36.401237|140.442764|1920-04|           11|              39|    true|     false|         3.81|       548.0|         48.7|              D|\n",
      "| 15|F108110101423|University of Tsu...|    筑波大学|National|   国立|    茨城県つくば市天王台1－1－1|  305－8577|029－853－2111|Ibaraki Ken|  茨城県|36.108723|140.100632|1973-10|           20|              97|    true|     false|         4.17|      1121.0|         60.4|              A|\n",
      "| 16|F108110101432|Tsukuba Universit...|筑波技術大学|National|   国立|   茨城県つくば市天久保4－3－15|  305－8520|029－852－2931|Ibaraki Ken|  茨城県| 36.10537|140.110474|1987-10|            3|               7|    true|     false|         4.12|        22.0|         35.7|              F|\n",
      "+---+-------------+--------------------+------------+--------+-------+-------------------------------+-----------+--------------+-----------+--------+---------+----------+-------+-------------+----------------+--------+----------+-------------+------------+-------------+---------------+\n"
     ]
    }
   ],
   "source": [
    "# 4. Створимо датасет з наявного, в якому рейтинги > 3.8 (поле review_rating)\n",
    "highly_rated_df = sparkDf.where(sparkDf['review_rating'] > 3.8)\n",
    "highly_rated_df.show(10)"
   ]
  },
  {
   "cell_type": "code",
   "execution_count": 88,
   "id": "a6cd5130724fde64",
   "metadata": {
    "ExecuteTime": {
     "end_time": "2023-12-19T14:03:31.561561Z",
     "start_time": "2023-12-19T14:03:31.540877Z"
    },
    "collapsed": false,
    "jupyter": {
     "outputs_hidden": false
    }
   },
   "outputs": [],
   "source": [
    "# 5. Створимо pipeline для кластеризації з такими особливостями:\n",
    "# а. Виконаємо обробку категоріальних даних / one hot encoding\n",
    "\n",
    "from pyspark.ml.feature import StringIndexer, OneHotEncoder, MinMaxScaler, VectorAssembler\n",
    "from pyspark.ml import Pipeline\n",
    "\n",
    "category_columns = [\"type\", \"state\", \"difficulty_rank\"]\n",
    "numeric_columns = [\"latitude\", \"longitude\", \"faculty_count\", \"review_rating\"]\n",
    "\n",
    "# Ми будемо проводити нормалізацію по різному для цих колонок\n",
    "feature_df = sparkDf.select('id', *category_columns, *numeric_columns)\n",
    "\n",
    "stages = []\n",
    "\n",
    "category_index_columns = [col + '_index' for col in category_columns]\n",
    "category_encoded_columns = [col + '_encoded' for col in category_columns]\n",
    "\n",
    "string_indexer = StringIndexer(inputCols=category_columns, outputCols=category_index_columns)\n",
    "onehot_encoder = OneHotEncoder(inputCols=category_index_columns, outputCols=category_encoded_columns)\n",
    "\n",
    "scaler_vector = VectorAssembler(inputCols=numeric_columns, outputCol='numeric_vector')\n",
    "scaler = MinMaxScaler(inputCol='numeric_vector', outputCol='numeric_vector_scaled')\n",
    "\n",
    "stages = [string_indexer, onehot_encoder, scaler_vector, scaler]\n",
    "\n",
    "pipeline = Pipeline(stages=stages)"
   ]
  },
  {
   "cell_type": "code",
   "execution_count": 89,
   "id": "ec0786f09aa5edc6",
   "metadata": {
    "ExecuteTime": {
     "end_time": "2023-12-19T14:03:33.331747Z",
     "start_time": "2023-12-19T14:03:33.048860Z"
    },
    "collapsed": false,
    "jupyter": {
     "outputs_hidden": false
    }
   },
   "outputs": [
    {
     "name": "stdout",
     "output_type": "stream",
     "text": [
      "+---+--------+---------+---------------+---------+----------+-------------+-------------+----------+-----------+---------------------+------------+--------------+-----------------------+--------------------+---------------------+\n",
      "| id|    type|    state|difficulty_rank| latitude| longitude|faculty_count|review_rating|type_index|state_index|difficulty_rank_index|type_encoded| state_encoded|difficulty_rank_encoded|      numeric_vector|numeric_vector_scaled|\n",
      "+---+--------+---------+---------------+---------+----------+-------------+-------------+----------+-----------+---------------------+------------+--------------+-----------------------+--------------------+---------------------+\n",
      "|  0|National|Hokkai Do|              A|43.070446|141.347153|           33|         4.16|       2.0|        3.0|                  6.0|   (2,[],[])|(46,[3],[1.0])|          (7,[6],[1.0])|[43.070446,141.34...| [0.87941900058040...|\n",
      "+---+--------+---------+---------------+---------+----------+-------------+-------------+----------+-----------+---------------------+------------+--------------+-----------------------+--------------------+---------------------+\n"
     ]
    }
   ],
   "source": [
    "model = pipeline.fit(feature_df)\n",
    "transformed = model.transform(feature_df)\n",
    "transformed.show(1)"
   ]
  },
  {
   "cell_type": "code",
   "execution_count": 104,
   "id": "decb92343524a157",
   "metadata": {
    "ExecuteTime": {
     "end_time": "2023-12-19T14:29:50.333276Z",
     "start_time": "2023-12-19T14:29:49.757681Z"
    },
    "collapsed": false,
    "jupyter": {
     "outputs_hidden": false
    }
   },
   "outputs": [
    {
     "name": "stdout",
     "output_type": "stream",
     "text": [
      "+---+--------+---------+---------------+---------+----------+-------------+-------------+----------+-----------+---------------------+------------+--------------+-----------------------+--------------------+---------------------+--------------------+----------+\n",
      "| id|    type|    state|difficulty_rank| latitude| longitude|faculty_count|review_rating|type_index|state_index|difficulty_rank_index|type_encoded| state_encoded|difficulty_rank_encoded|      numeric_vector|numeric_vector_scaled|            features|prediction|\n",
      "+---+--------+---------+---------------+---------+----------+-------------+-------------+----------+-----------+---------------------+------------+--------------+-----------------------+--------------------+---------------------+--------------------+----------+\n",
      "|  0|National|Hokkai Do|              A|43.070446|141.347153|           33|         4.16|       2.0|        3.0|                  6.0|   (2,[],[])|(46,[3],[1.0])|          (7,[6],[1.0])|[43.070446,141.34...| [0.87941900058040...|(59,[0,1,2,3,9,58...|         0|\n",
      "+---+--------+---------+---------------+---------+----------+-------------+-------------+----------+-----------+---------------------+------------+--------------+-----------------------+--------------------+---------------------+--------------------+----------+\n"
     ]
    }
   ],
   "source": [
    "# Застосуємо метод KMeans\n",
    "from pyspark.ml.clustering import KMeans\n",
    "\n",
    "features_vector = VectorAssembler(inputCols=['numeric_vector_scaled', *category_encoded_columns], outputCol='features')\n",
    "kmeans = KMeans(k=3, featuresCol='features')\n",
    "\n",
    "clustering_pipeline = Pipeline(stages=[features_vector, kmeans])\n",
    "\n",
    "kmeans_model = clustering_pipeline.fit(transformed)\n",
    "clustered_df = kmeans_model.transform(transformed)\n",
    "clustered_df.show(1)"
   ]
  },
  {
   "cell_type": "code",
   "execution_count": 106,
   "id": "434860bd3c0248a7",
   "metadata": {
    "ExecuteTime": {
     "end_time": "2023-12-19T14:32:10.776798Z",
     "start_time": "2023-12-19T14:32:10.649113Z"
    },
    "collapsed": false,
    "jupyter": {
     "outputs_hidden": false
    }
   },
   "outputs": [
    {
     "name": "stdout",
     "output_type": "stream",
     "text": [
      "+----------+-----+\n",
      "|prediction|count|\n",
      "+----------+-----+\n",
      "|         1|  320|\n",
      "|         2|  144|\n",
      "|         0|  349|\n",
      "+----------+-----+\n"
     ]
    }
   ],
   "source": [
    "# Згрупуємо дані по кластерам\n",
    "clustered_df.groupBy('prediction').count().show()"
   ]
  },
  {
   "cell_type": "code",
   "execution_count": 112,
   "id": "231244409effb8c0",
   "metadata": {
    "ExecuteTime": {
     "end_time": "2023-12-19T14:35:33.391148Z",
     "start_time": "2023-12-19T14:35:32.499929Z"
    },
    "collapsed": false,
    "jupyter": {
     "outputs_hidden": false
    }
   },
   "outputs": [
    {
     "name": "stdout",
     "output_type": "stream",
     "text": [
      "+---+--------+---------+---------------+---------+----------+-------------+-------------+----------+-----------+---------------------+------------+--------------+-----------------------+--------------------+---------------------+--------------------+----------+\n",
      "| id|    type|    state|difficulty_rank| latitude| longitude|faculty_count|review_rating|type_index|state_index|difficulty_rank_index|type_encoded| state_encoded|difficulty_rank_encoded|      numeric_vector|numeric_vector_scaled|            features|prediction|\n",
      "+---+--------+---------+---------------+---------+----------+-------------+-------------+----------+-----------+---------------------+------------+--------------+-----------------------+--------------------+---------------------+--------------------+----------+\n",
      "|  0|National|Hokkai Do|              A|43.070446|141.347153|           33|         4.16|       2.0|        3.0|                  6.0|   (2,[],[])|(46,[3],[1.0])|          (7,[6],[1.0])|[43.070446,141.34...| [0.87941900058040...|(59,[0,1,2,3,9,58...|         0|\n",
      "+---+--------+---------+---------------+---------+----------+-------------+-------------+----------+-----------+---------------------+------------+--------------+-----------------------+--------------------+---------------------+--------------------+----------+\n"
     ]
    }
   ],
   "source": [
    "# Застосуємо метод BisectingKMeans\n",
    "from pyspark.ml.clustering import BisectingKMeans\n",
    "\n",
    "bisecting_kmeans = BisectingKMeans(k=3, featuresCol='features')\n",
    "clustering_pipeline = Pipeline(stages=[features_vector, bisecting_kmeans])\n",
    "bisecting_kmeans_model = clustering_pipeline.fit(transformed)\n",
    "clustered_df = kmeans_model.transform(transformed)\n",
    "clustered_df.show(1)"
   ]
  },
  {
   "cell_type": "code",
   "execution_count": 113,
   "id": "855baf8f47316777",
   "metadata": {
    "ExecuteTime": {
     "end_time": "2023-12-19T14:35:34.786858Z",
     "start_time": "2023-12-19T14:35:34.709273Z"
    },
    "collapsed": false,
    "jupyter": {
     "outputs_hidden": false
    }
   },
   "outputs": [
    {
     "name": "stdout",
     "output_type": "stream",
     "text": [
      "+----------+-----+\n",
      "|prediction|count|\n",
      "+----------+-----+\n",
      "|         1|  320|\n",
      "|         2|  144|\n",
      "|         0|  349|\n",
      "+----------+-----+\n"
     ]
    }
   ],
   "source": [
    "# Згрупуємо дані по кластерам\n",
    "clustered_df.groupBy('prediction').count().show()"
   ]
  },
  {
   "cell_type": "code",
   "execution_count": 8,
   "id": "a0108e3fd543bf3f",
   "metadata": {
    "ExecuteTime": {
     "end_time": "2023-12-19T12:51:22.688070Z",
     "start_time": "2023-12-19T12:51:22.651224Z"
    },
    "collapsed": false,
    "jupyter": {
     "outputs_hidden": false
    }
   },
   "outputs": [],
   "source": [
    "spark.stop()"
   ]
  }
 ],
 "metadata": {
  "kernelspec": {
   "display_name": "lab3",
   "language": "python",
   "name": "lab3"
  },
  "language_info": {
   "codemirror_mode": {
    "name": "ipython",
    "version": 3
   },
   "file_extension": ".py",
   "mimetype": "text/x-python",
   "name": "python",
   "nbconvert_exporter": "python",
   "pygments_lexer": "ipython3",
   "version": "3.9.6"
  }
 },
 "nbformat": 4,
 "nbformat_minor": 5
}
